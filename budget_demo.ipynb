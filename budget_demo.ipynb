{
 "cells": [
  {
   "cell_type": "code",
   "execution_count": null,
   "metadata": {
    "collapsed": true
   },
   "outputs": [],
   "source": [
    "%matplotlib inline\n",
    "%load_ext autoreload\n",
    "%autoreload 2\n",
    "%config InlineBackend.figure_format = 'svg'"
   ]
  },
  {
   "cell_type": "code",
   "execution_count": null,
   "metadata": {
    "collapsed": false
   },
   "outputs": [],
   "source": [
    "import pandas as pd\n",
    "import bdgt_tools as bt"
   ]
  },
  {
   "cell_type": "code",
   "execution_count": null,
   "metadata": {
    "collapsed": false
   },
   "outputs": [],
   "source": [
    "# example has\n",
    "# a two-part transfer, one on same day, one later\n",
    "# some missing cateogries\n",
    "example1 = pd.read_csv('example1.csv', sep=',', parse_dates=['Date'], dayfirst=False, index_col='Date')\n",
    "example2 = pd.read_csv('example2.csv', sep=',', parse_dates=['Date'], dayfirst=False, index_col='Date')\n",
    "example1.name = \"_1\"\n",
    "example2.name = \"_2\"\n",
    "\n",
    "example = bt.combine([example1, example2], append_name=\"Category\")\n",
    "\n",
    "cat_list, split_cats = bt.slice_categories(example)\n",
    "idx = pd.date_range('07-14-2015', '11-01-2015')\n",
    "\n",
    "\n",
    "bt.plot_wedges(idx, cat_list, split_cats)"
   ]
  }
 ],
 "metadata": {
  "kernelspec": {
   "display_name": "Python 2",
   "language": "python",
   "name": "python2"
  },
  "language_info": {
   "codemirror_mode": {
    "name": "ipython",
    "version": 2
   },
   "file_extension": ".py",
   "mimetype": "text/x-python",
   "name": "python",
   "nbconvert_exporter": "python",
   "pygments_lexer": "ipython2",
   "version": "2.7.12"
  }
 },
 "nbformat": 4,
 "nbformat_minor": 1
}
